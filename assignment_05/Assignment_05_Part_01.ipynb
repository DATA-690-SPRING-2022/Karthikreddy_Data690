{
  "nbformat": 4,
  "nbformat_minor": 0,
  "metadata": {
    "colab": {
      "name": "Assignment_05_Part_01.ipynb",
      "provenance": [],
      "authorship_tag": "ABX9TyO3OdXhpad7pXmjnDxYxnqe",
      "include_colab_link": true
    },
    "kernelspec": {
      "name": "python3",
      "display_name": "Python 3"
    },
    "language_info": {
      "name": "python"
    }
  },
  "cells": [
    {
      "cell_type": "markdown",
      "metadata": {
        "id": "view-in-github",
        "colab_type": "text"
      },
      "source": [
        "<a href=\"https://colab.research.google.com/github/Karthikreddy2299/Karthikreddy_Data690/blob/main/assignment_05/Assignment_05_Part_01.ipynb\" target=\"_parent\"><img src=\"https://colab.research.google.com/assets/colab-badge.svg\" alt=\"Open In Colab\"/></a>"
      ]
    },
    {
      "cell_type": "markdown",
      "source": [
        "# Assignment 05: Part 01\n",
        "\n",
        "Name: Karthik Reddy \n",
        "\n",
        "Date: 03/05/2022"
      ],
      "metadata": {
        "id": "nGdHNL4SdaN5"
      }
    },
    {
      "cell_type": "markdown",
      "source": [
        "# Data Analysis with Python\n",
        "\n",
        "## What is Data Analysis? \n",
        "\n",
        "A process of inspecting, cleansing, transforming and modeling data with the goal of discovering useful information, informing conclusion and supporting decision-making.\n"
      ],
      "metadata": {
        "id": "j7qE5r0ad1Hk"
      }
    },
    {
      "cell_type": "markdown",
      "source": [
        "## Data Analysis Tools: \n",
        "\n",
        "Auto-managed closed tools: Qlik, Tableau, Looker, Zoho Analytics\n",
        "Programming Languages: Python, R, Julia"
      ],
      "metadata": {
        "id": "ygDJcPnielZK"
      }
    },
    {
      "cell_type": "markdown",
      "source": [
        "## Auto-managed closed tools: \n",
        "Advantages: Easy to learn.\n",
        "\n",
        "Disadvantages: Closed source, expensive, limited.\n",
        "\n",
        "\n",
        "## Programming Languages:\n",
        "Advantages: Open source, free (or very cheap). \n",
        "\n",
        "Disadvantages: Extremely powerful, Steep learning curve. "
      ],
      "metadata": {
        "id": "MUxWlKzGfO-C"
      }
    },
    {
      "cell_type": "markdown",
      "source": [
        "## Why Python for Data Analysis?\n",
        "\n",
        "1. Very simple and intuitive to learn.\n",
        "2. “Correct” language.\n",
        "3. Powerful libraries.\n",
        "4. Free and open source.\n",
        "5. Amazing community, docs and conferences.\n"
      ],
      "metadata": {
        "id": "_yMdzTDFga3T"
      }
    },
    {
      "cell_type": "markdown",
      "source": [
        "## When to choose R?\n",
        "\n",
        "\n",
        "*   When R Studio is needed.\n",
        "*   When dealing with advanced statistical methods.\n",
        "*   When extreme performance is needed. \n",
        "\n",
        "\n"
      ],
      "metadata": {
        "id": "qny30KnXhFTw"
      }
    },
    {
      "cell_type": "markdown",
      "source": [
        "## The Data Analysis Process:\n",
        "\n",
        "1. Data Extraction.\n",
        "2. Data Cleaning.\n",
        "3. Data Wrangling.\n",
        "4. Analysis.\n",
        "5. Action.\n",
        "\n",
        " \n",
        "\n",
        "\n"
      ],
      "metadata": {
        "id": "_s1JF1L7hkUX"
      }
    },
    {
      "cell_type": "markdown",
      "source": [
        "## Python & PyData Ecosystem: \n",
        "\n",
        "pandas: The cornerstone of our Data Analysis job with python. \n",
        "\n",
        "matplotlib: The foundational library for visualizations. Other libraries we’ll use will be built on top of matplotlib.\n",
        "\n",
        "numpy: The numeric library that serves as the foundation of all calculations in Python.\n",
        "\n",
        "seaborn: A statistical visualization tool built on top of matplotlib.\n",
        "\n",
        "statsmodels: A library with many advanced statistical functions.\n",
        "\n",
        "scipy: Advanced scientific computing, including functions for optimization, linear algebra, image processing and much more.\n",
        "\n",
        "scikit-learn: The most popular machine learning library for Python (not deep learning). \n"
      ],
      "metadata": {
        "id": "gOFdaLxLibT4"
      }
    }
  ]
}