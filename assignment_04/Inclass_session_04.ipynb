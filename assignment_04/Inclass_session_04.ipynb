{
  "nbformat": 4,
  "nbformat_minor": 0,
  "metadata": {
    "colab": {
      "name": "Inclass_session_04.ipynb",
      "provenance": [],
      "authorship_tag": "ABX9TyO/kJGcOKtO/bzk1GPmSNa5",
      "include_colab_link": true
    },
    "kernelspec": {
      "name": "python3",
      "display_name": "Python 3"
    },
    "language_info": {
      "name": "python"
    }
  },
  "cells": [
    {
      "cell_type": "markdown",
      "metadata": {
        "id": "view-in-github",
        "colab_type": "text"
      },
      "source": [
        "<a href=\"https://colab.research.google.com/github/Karthikreddy2299/Karthikreddy_Data690/blob/main/assignment_04/Inclass_session_04.ipynb\" target=\"_parent\"><img src=\"https://colab.research.google.com/assets/colab-badge.svg\" alt=\"Open In Colab\"/></a>"
      ]
    },
    {
      "cell_type": "code",
      "execution_count": null,
      "metadata": {
        "id": "PK4sN-S7Ibhn"
      },
      "outputs": [],
      "source": [
        ""
      ]
    },
    {
      "cell_type": "markdown",
      "source": [
        "# In class practice\n",
        "\n",
        "Date: 02/21/2022\n",
        "\n",
        "Name: Karthik Reddy"
      ],
      "metadata": {
        "id": "eQitXFR2J8RX"
      }
    },
    {
      "cell_type": "code",
      "source": [
        "import random\n",
        "import re\n",
        "for i in range(0,10):\n",
        "    print(end=\"\\n \")\n",
        "    for j in range(0,10):\n",
        "        num=random.randint(0,9)\n",
        "        if (num % 2) == 0:\n",
        "            print(num, end=\" \")\n",
        "        else:\n",
        "            strnum = str(num)\n",
        "            strnum=strnum.replace(strnum,\"@\")\n",
        "            print(strnum, end=\" \")"
      ],
      "metadata": {
        "colab": {
          "base_uri": "https://localhost:8080/"
        },
        "id": "ZWHQ4i7ZKdY6",
        "outputId": "d558bfb5-8470-41a0-80b6-98a69877c675"
      },
      "execution_count": 1,
      "outputs": [
        {
          "output_type": "stream",
          "name": "stdout",
          "text": [
            "\n",
            " @ @ 0 @ @ @ 2 6 @ @ \n",
            " @ @ 4 @ 0 @ 6 0 6 @ \n",
            " 2 @ @ 6 @ @ @ @ 8 0 \n",
            " 0 6 @ @ @ @ @ 6 2 8 \n",
            " 8 @ 8 8 @ 8 8 2 @ 6 \n",
            " @ 0 6 4 @ 6 @ @ @ 6 \n",
            " 2 2 8 @ @ 8 6 @ @ @ \n",
            " @ @ @ 8 @ 0 4 2 @ 0 \n",
            " 2 @ 0 @ @ 6 8 6 @ @ \n",
            " @ 0 @ @ @ @ 8 @ @ @ "
          ]
        }
      ]
    },
    {
      "cell_type": "code",
      "source": [
        "x = \"Hello Worlpd!\"\n",
        "\n",
        "print(x)"
      ],
      "metadata": {
        "colab": {
          "base_uri": "https://localhost:8080/"
        },
        "id": "ni2r4k9gKi8h",
        "outputId": "27fb1d11-f084-4ce3-c397-20c26f5cc2cc"
      },
      "execution_count": 2,
      "outputs": [
        {
          "output_type": "stream",
          "name": "stdout",
          "text": [
            "Hello Worlpd!\n"
          ]
        }
      ]
    },
    {
      "cell_type": "code",
      "source": [
        "x = x.replace(\"p\", \"\")\n",
        "\n",
        "print(x)"
      ],
      "metadata": {
        "colab": {
          "base_uri": "https://localhost:8080/"
        },
        "id": "G8-ia8FqKqOc",
        "outputId": "f12d9a41-7088-464c-ef23-521b887145f7"
      },
      "execution_count": 3,
      "outputs": [
        {
          "output_type": "stream",
          "name": "stdout",
          "text": [
            "Hello World!\n"
          ]
        }
      ]
    },
    {
      "cell_type": "code",
      "source": [
        "x = x.replace(\"Hello\", \"Hi\")\n",
        "\n",
        "print(x)"
      ],
      "metadata": {
        "colab": {
          "base_uri": "https://localhost:8080/"
        },
        "id": "VGr-rK8WKtzY",
        "outputId": "479d7217-5c85-4430-b127-feeed5075146"
      },
      "execution_count": 4,
      "outputs": [
        {
          "output_type": "stream",
          "name": "stdout",
          "text": [
            "Hi World!\n"
          ]
        }
      ]
    },
    {
      "cell_type": "code",
      "source": [
        "x = x.upper()\n",
        "print(x)"
      ],
      "metadata": {
        "colab": {
          "base_uri": "https://localhost:8080/"
        },
        "id": "wXADdrHJKw_C",
        "outputId": "407eca02-7d3a-4b31-e715-bb3c3b33a1e3"
      },
      "execution_count": 5,
      "outputs": [
        {
          "output_type": "stream",
          "name": "stdout",
          "text": [
            "HI WORLD!\n"
          ]
        }
      ]
    },
    {
      "cell_type": "code",
      "source": [
        "x = x.lower()\n",
        "print(x)"
      ],
      "metadata": {
        "colab": {
          "base_uri": "https://localhost:8080/"
        },
        "id": "V4Wr4FmeK0Lc",
        "outputId": "0d1ef448-567b-4dc8-bcda-7ba84d183334"
      },
      "execution_count": 6,
      "outputs": [
        {
          "output_type": "stream",
          "name": "stdout",
          "text": [
            "hi world!\n"
          ]
        }
      ]
    },
    {
      "cell_type": "markdown",
      "source": [
        "String Function/methods/operators\n",
        "\n",
        "* upper()\n",
        "\n",
        "*   lower()\n",
        "* replace()\n",
        "* strip()\n",
        "* lstrip()\n",
        "\n",
        "* rstrip()\n",
        "\n",
        "\n",
        "\n"
      ],
      "metadata": {
        "id": "DFwnSlQeLAPY"
      }
    },
    {
      "cell_type": "code",
      "source": [
        "# Generate 100 number first\n",
        "\n",
        "numbers = []\n",
        "for i in range(100):\n",
        "    numbers.append(random.randint(0,9))\n",
        "\n",
        "print(numbers)"
      ],
      "metadata": {
        "colab": {
          "base_uri": "https://localhost:8080/"
        },
        "id": "gdXgxs45LZhz",
        "outputId": "35c5d41e-8e59-4bf0-811b-9fc0983bc2df"
      },
      "execution_count": 7,
      "outputs": [
        {
          "output_type": "stream",
          "name": "stdout",
          "text": [
            "[6, 8, 5, 0, 7, 6, 3, 5, 8, 6, 0, 0, 4, 1, 6, 6, 1, 9, 9, 7, 4, 6, 8, 5, 0, 6, 6, 3, 3, 4, 5, 5, 7, 6, 6, 8, 6, 2, 7, 8, 7, 4, 6, 2, 8, 9, 0, 5, 2, 8, 9, 6, 0, 9, 0, 2, 9, 1, 7, 1, 2, 1, 8, 9, 5, 7, 0, 6, 7, 6, 0, 9, 4, 8, 1, 9, 9, 4, 7, 2, 1, 6, 0, 2, 6, 2, 5, 9, 2, 8, 0, 4, 1, 7, 4, 4, 8, 9, 2, 8]\n"
          ]
        }
      ]
    },
    {
      "cell_type": "code",
      "source": [
        "for i in range(0,100,1):\n",
        "    print(\"index = \", i, \"number= \", numbers[i])"
      ],
      "metadata": {
        "colab": {
          "base_uri": "https://localhost:8080/"
        },
        "id": "1bB37AKqLghK",
        "outputId": "c2190777-e463-40ff-f7d6-31216b35059a"
      },
      "execution_count": 8,
      "outputs": [
        {
          "output_type": "stream",
          "name": "stdout",
          "text": [
            "index =  0 number=  6\n",
            "index =  1 number=  8\n",
            "index =  2 number=  5\n",
            "index =  3 number=  0\n",
            "index =  4 number=  7\n",
            "index =  5 number=  6\n",
            "index =  6 number=  3\n",
            "index =  7 number=  5\n",
            "index =  8 number=  8\n",
            "index =  9 number=  6\n",
            "index =  10 number=  0\n",
            "index =  11 number=  0\n",
            "index =  12 number=  4\n",
            "index =  13 number=  1\n",
            "index =  14 number=  6\n",
            "index =  15 number=  6\n",
            "index =  16 number=  1\n",
            "index =  17 number=  9\n",
            "index =  18 number=  9\n",
            "index =  19 number=  7\n",
            "index =  20 number=  4\n",
            "index =  21 number=  6\n",
            "index =  22 number=  8\n",
            "index =  23 number=  5\n",
            "index =  24 number=  0\n",
            "index =  25 number=  6\n",
            "index =  26 number=  6\n",
            "index =  27 number=  3\n",
            "index =  28 number=  3\n",
            "index =  29 number=  4\n",
            "index =  30 number=  5\n",
            "index =  31 number=  5\n",
            "index =  32 number=  7\n",
            "index =  33 number=  6\n",
            "index =  34 number=  6\n",
            "index =  35 number=  8\n",
            "index =  36 number=  6\n",
            "index =  37 number=  2\n",
            "index =  38 number=  7\n",
            "index =  39 number=  8\n",
            "index =  40 number=  7\n",
            "index =  41 number=  4\n",
            "index =  42 number=  6\n",
            "index =  43 number=  2\n",
            "index =  44 number=  8\n",
            "index =  45 number=  9\n",
            "index =  46 number=  0\n",
            "index =  47 number=  5\n",
            "index =  48 number=  2\n",
            "index =  49 number=  8\n",
            "index =  50 number=  9\n",
            "index =  51 number=  6\n",
            "index =  52 number=  0\n",
            "index =  53 number=  9\n",
            "index =  54 number=  0\n",
            "index =  55 number=  2\n",
            "index =  56 number=  9\n",
            "index =  57 number=  1\n",
            "index =  58 number=  7\n",
            "index =  59 number=  1\n",
            "index =  60 number=  2\n",
            "index =  61 number=  1\n",
            "index =  62 number=  8\n",
            "index =  63 number=  9\n",
            "index =  64 number=  5\n",
            "index =  65 number=  7\n",
            "index =  66 number=  0\n",
            "index =  67 number=  6\n",
            "index =  68 number=  7\n",
            "index =  69 number=  6\n",
            "index =  70 number=  0\n",
            "index =  71 number=  9\n",
            "index =  72 number=  4\n",
            "index =  73 number=  8\n",
            "index =  74 number=  1\n",
            "index =  75 number=  9\n",
            "index =  76 number=  9\n",
            "index =  77 number=  4\n",
            "index =  78 number=  7\n",
            "index =  79 number=  2\n",
            "index =  80 number=  1\n",
            "index =  81 number=  6\n",
            "index =  82 number=  0\n",
            "index =  83 number=  2\n",
            "index =  84 number=  6\n",
            "index =  85 number=  2\n",
            "index =  86 number=  5\n",
            "index =  87 number=  9\n",
            "index =  88 number=  2\n",
            "index =  89 number=  8\n",
            "index =  90 number=  0\n",
            "index =  91 number=  4\n",
            "index =  92 number=  1\n",
            "index =  93 number=  7\n",
            "index =  94 number=  4\n",
            "index =  95 number=  4\n",
            "index =  96 number=  8\n",
            "index =  97 number=  9\n",
            "index =  98 number=  2\n",
            "index =  99 number=  8\n"
          ]
        }
      ]
    },
    {
      "cell_type": "code",
      "source": [
        "count = 0\n",
        "for i in range(10):\n",
        "    for j in range(10):\n",
        "        print(numbers[count], \" \", end = \" \")\n",
        "        count+=1\n",
        "    print(\"\\n\")"
      ],
      "metadata": {
        "colab": {
          "base_uri": "https://localhost:8080/"
        },
        "id": "g72t3ekmLm_0",
        "outputId": "1c3e31e8-c091-41c4-89ae-d55ac0e5efda"
      },
      "execution_count": 9,
      "outputs": [
        {
          "output_type": "stream",
          "name": "stdout",
          "text": [
            "6   8   5   0   7   6   3   5   8   6   \n",
            "\n",
            "0   0   4   1   6   6   1   9   9   7   \n",
            "\n",
            "4   6   8   5   0   6   6   3   3   4   \n",
            "\n",
            "5   5   7   6   6   8   6   2   7   8   \n",
            "\n",
            "7   4   6   2   8   9   0   5   2   8   \n",
            "\n",
            "9   6   0   9   0   2   9   1   7   1   \n",
            "\n",
            "2   1   8   9   5   7   0   6   7   6   \n",
            "\n",
            "0   9   4   8   1   9   9   4   7   2   \n",
            "\n",
            "1   6   0   2   6   2   5   9   2   8   \n",
            "\n",
            "0   4   1   7   4   4   8   9   2   8   \n",
            "\n"
          ]
        }
      ]
    },
    {
      "cell_type": "code",
      "source": [
        "# when to initialize a variable\n",
        "\n",
        "sum=0\n",
        "for n in range (10): #repeats each row 10 times\n",
        "    for i in range(10): #repeats each integer 10 times\n",
        "       y=random.randint(0,9)\n",
        "       sum=sum+ y\n",
        "       print(y,end=\" \") #prints one integer with space at the end\n",
        "    print( \"*\",sum,end=\" \\n\")  #starts a new row after each 10 char\n",
        "    sum=0                     #resets sum to 0 before the next loop"
      ],
      "metadata": {
        "colab": {
          "base_uri": "https://localhost:8080/"
        },
        "id": "1pLxh9SXLtzg",
        "outputId": "0667409e-e717-4bf1-fc5e-f5e2e6a5b7e1"
      },
      "execution_count": 10,
      "outputs": [
        {
          "output_type": "stream",
          "name": "stdout",
          "text": [
            "8 8 6 1 2 3 7 2 8 5 * 50 \n",
            "6 4 0 8 4 7 1 7 8 1 * 46 \n",
            "5 0 6 5 4 5 9 3 2 3 * 42 \n",
            "0 2 3 9 8 9 7 3 4 5 * 50 \n",
            "5 1 6 6 2 9 5 7 2 8 * 51 \n",
            "8 2 8 4 6 2 2 5 5 5 * 47 \n",
            "2 1 4 1 3 0 2 3 2 9 * 27 \n",
            "0 5 6 4 1 2 5 7 2 4 * 36 \n",
            "2 9 6 6 2 5 6 6 3 3 * 48 \n",
            "6 0 9 2 5 5 0 4 5 1 * 37 \n"
          ]
        }
      ]
    },
    {
      "cell_type": "code",
      "source": [
        "# When to intialize a variable\n",
        "\n",
        "\n",
        "for n in range(10):\n",
        "    sum = 0\n",
        "    for i in range(10):\n",
        "        y = random.randint(0,9)\n",
        "        sum=sum+y\n",
        "        print(\"y\", end=\" \")\n",
        "    print(\"*\",sum,end = \" \\n\")"
      ],
      "metadata": {
        "colab": {
          "base_uri": "https://localhost:8080/"
        },
        "id": "32oeVvcgLvzi",
        "outputId": "b8d6100b-c50a-42fa-e9db-08cc5f192eb2"
      },
      "execution_count": 11,
      "outputs": [
        {
          "output_type": "stream",
          "name": "stdout",
          "text": [
            "y y y y y y y y y y * 51 \n",
            "y y y y y y y y y y * 59 \n",
            "y y y y y y y y y y * 43 \n",
            "y y y y y y y y y y * 42 \n",
            "y y y y y y y y y y * 38 \n",
            "y y y y y y y y y y * 33 \n",
            "y y y y y y y y y y * 58 \n",
            "y y y y y y y y y y * 36 \n",
            "y y y y y y y y y y * 37 \n",
            "y y y y y y y y y y * 43 \n"
          ]
        }
      ]
    },
    {
      "cell_type": "code",
      "source": [
        "x = [0,0,0,0,0,0]\n",
        "print(x)"
      ],
      "metadata": {
        "colab": {
          "base_uri": "https://localhost:8080/"
        },
        "id": "8rfd7x2tL1FD",
        "outputId": "ca0e3833-a9a3-4b62-ed3d-ea1089b91a13"
      },
      "execution_count": 12,
      "outputs": [
        {
          "output_type": "stream",
          "name": "stdout",
          "text": [
            "[0, 0, 0, 0, 0, 0]\n"
          ]
        }
      ]
    },
    {
      "cell_type": "code",
      "source": [
        "x = [0] * 6\n",
        "\n",
        "print(x)"
      ],
      "metadata": {
        "colab": {
          "base_uri": "https://localhost:8080/"
        },
        "id": "fAhOu9FBL6X6",
        "outputId": "40cbde40-70e5-4bbf-a770-d4a1be5384d0"
      },
      "execution_count": 13,
      "outputs": [
        {
          "output_type": "stream",
          "name": "stdout",
          "text": [
            "[0, 0, 0, 0, 0, 0]\n"
          ]
        }
      ]
    },
    {
      "cell_type": "code",
      "source": [
        "x = [0] * 100\n",
        "\n",
        "print(x)"
      ],
      "metadata": {
        "colab": {
          "base_uri": "https://localhost:8080/"
        },
        "id": "qGmWwZGkL7sV",
        "outputId": "4cef380e-26a8-4b87-f98e-06ab65a1b5fb"
      },
      "execution_count": 14,
      "outputs": [
        {
          "output_type": "stream",
          "name": "stdout",
          "text": [
            "[0, 0, 0, 0, 0, 0, 0, 0, 0, 0, 0, 0, 0, 0, 0, 0, 0, 0, 0, 0, 0, 0, 0, 0, 0, 0, 0, 0, 0, 0, 0, 0, 0, 0, 0, 0, 0, 0, 0, 0, 0, 0, 0, 0, 0, 0, 0, 0, 0, 0, 0, 0, 0, 0, 0, 0, 0, 0, 0, 0, 0, 0, 0, 0, 0, 0, 0, 0, 0, 0, 0, 0, 0, 0, 0, 0, 0, 0, 0, 0, 0, 0, 0, 0, 0, 0, 0, 0, 0, 0, 0, 0, 0, 0, 0, 0, 0, 0, 0, 0]\n"
          ]
        }
      ]
    }
  ]
}