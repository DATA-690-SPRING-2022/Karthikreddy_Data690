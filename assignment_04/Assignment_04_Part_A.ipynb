{
  "nbformat": 4,
  "nbformat_minor": 0,
  "metadata": {
    "colab": {
      "name": "Assignment_04_Part_A.ipynb",
      "provenance": [],
      "authorship_tag": "ABX9TyPkWspZ7cazDQGxZ+gLbOML",
      "include_colab_link": true
    },
    "kernelspec": {
      "name": "python3",
      "display_name": "Python 3"
    },
    "language_info": {
      "name": "python"
    }
  },
  "cells": [
    {
      "cell_type": "markdown",
      "metadata": {
        "id": "view-in-github",
        "colab_type": "text"
      },
      "source": [
        "<a href=\"https://colab.research.google.com/github/Karthikreddy2299/Karthikreddy_Data690/blob/main/assignment_04/Assignment_04_Part_A.ipynb\" target=\"_parent\"><img src=\"https://colab.research.google.com/assets/colab-badge.svg\" alt=\"Open In Colab\"/></a>"
      ]
    },
    {
      "cell_type": "markdown",
      "source": [
        "# Assignment 04 - Part A \n",
        "\n",
        "Name: Karthik Reddy \n",
        "\n",
        "Date: 02/26/2022\n",
        "\n",
        "\n",
        "\n",
        "1. Write code to open the text file census_costs.txt and read all lines into a list named \"line_list\". Print line_list."
      ],
      "metadata": {
        "id": "vbUXNapDQAEd"
      }
    },
    {
      "cell_type": "code",
      "execution_count": 2,
      "metadata": {
        "colab": {
          "base_uri": "https://localhost:8080/"
        },
        "id": "PL5Aaz3-PAhP",
        "outputId": "799692fb-ff06-495a-900e-2c0145546fb3"
      },
      "outputs": [
        {
          "output_type": "execute_result",
          "data": {
            "text/plain": [
              "['Source: https://www.genealogybranches.com/censuscosts.html\\n',\n",
              " 'Census Year\\tTotal Population\\tCensus Cost\\tAverage Cost Per Person\\n',\n",
              " '1790\\t3,929,214\\t$44,377\\t1.13 cents\\n',\n",
              " '1800\\t5,308,483\\t$66,109\\t1.24 cents\\n',\n",
              " '1810\\t7,239,881\\t$178,445\\t2.46 cents\\n',\n",
              " '1820\\t9,633,822\\t$208,526\\t2.16 cents\\n',\n",
              " '1830\\t12,866,020\\t$378,545\\t2.94 cents\\n',\n",
              " '1840\\t17,069,458\\t$833,371\\t4.88 cents\\n',\n",
              " '1850\\t23,191,876\\t$1,423,351\\t6.14 cents\\n',\n",
              " '1860\\t31,443,321\\t$1,969,377\\t6.26 cents\\n',\n",
              " '1870\\t38,558,371\\t$3,421,198\\t8.87 cents\\n',\n",
              " '1880\\t50,155,783\\t$5,790,678\\t11.54 cents\\n',\n",
              " '1890\\t62,979,766\\t$11,547,127\\t18.33 cents\\n',\n",
              " '1900\\t76,303,387\\t$11,854,000\\t15.54 cents\\n',\n",
              " '1910\\t91,972,266\\t$15,968,000\\t17.07 cents\\n',\n",
              " '1920\\t105,710,620\\t$25,117,000\\t23.76 cents\\n',\n",
              " '1930\\t122,775,046\\t$40,156,000\\t32.71 cents\\n',\n",
              " '1940\\t131,669,275\\t$67,527,000\\t51.29 cents\\n',\n",
              " '1950\\t151,325,798\\t$91,462,000\\t60.44 cents\\n',\n",
              " '1960\\t179,323,175\\t$127,934,000\\t71.34 cents\\n',\n",
              " '1970\\t203,302,031\\t$247,653,000\\t$1.22\\n',\n",
              " '1980\\t226,542,199\\t$1,078,488,000\\t$4.76\\n',\n",
              " '1990\\t248,718,301\\t$2,492,830,000\\t$10.02\\n',\n",
              " '2000\\t281,421,906\\t$4.5 Billion\\t$15.99\\n',\n",
              " '2010*\\t308,745,538\\t$13 Billion\\t$42.11\\n']"
            ]
          },
          "metadata": {},
          "execution_count": 2
        }
      ],
      "source": [
        "with open(\"census_costs.txt\",\"r\") as f:\n",
        "    line_list = f.readlines()\n",
        "\n",
        "line_list"
      ]
    },
    {
      "cell_type": "markdown",
      "source": [
        "2. Extract the first two lines and put them in a different list named \"top2_list\". You will need to use them later. Print the top2_list."
      ],
      "metadata": {
        "id": "Inudmbh0Qpw7"
      }
    },
    {
      "cell_type": "code",
      "source": [
        "top_2_list=line_list[0:2]\n",
        "\n",
        "top_2_list"
      ],
      "metadata": {
        "colab": {
          "base_uri": "https://localhost:8080/"
        },
        "id": "ZNQgYyNdQyxX",
        "outputId": "86d8e297-daca-44ef-b6af-d1430158c7db"
      },
      "execution_count": 5,
      "outputs": [
        {
          "output_type": "execute_result",
          "data": {
            "text/plain": [
              "['Source: https://www.genealogybranches.com/censuscosts.html\\n',\n",
              " 'Census Year\\tTotal Population\\tCensus Cost\\tAverage Cost Per Person\\n']"
            ]
          },
          "metadata": {},
          "execution_count": 5
        }
      ]
    },
    {
      "cell_type": "markdown",
      "source": [
        "3. Put the rest of the lines (containing useful data elements) in a new list named \"data_list\". Print data_list."
      ],
      "metadata": {
        "id": "4sWiyy7NRIXp"
      }
    },
    {
      "cell_type": "code",
      "source": [
        "data_list= line_list[2:]\n",
        "\n",
        "data_list"
      ],
      "metadata": {
        "colab": {
          "base_uri": "https://localhost:8080/"
        },
        "id": "3o3AvtBJROHe",
        "outputId": "42541c48-4689-40c4-9b5b-7dd8e9f28add"
      },
      "execution_count": 6,
      "outputs": [
        {
          "output_type": "execute_result",
          "data": {
            "text/plain": [
              "['1790\\t3,929,214\\t$44,377\\t1.13 cents\\n',\n",
              " '1800\\t5,308,483\\t$66,109\\t1.24 cents\\n',\n",
              " '1810\\t7,239,881\\t$178,445\\t2.46 cents\\n',\n",
              " '1820\\t9,633,822\\t$208,526\\t2.16 cents\\n',\n",
              " '1830\\t12,866,020\\t$378,545\\t2.94 cents\\n',\n",
              " '1840\\t17,069,458\\t$833,371\\t4.88 cents\\n',\n",
              " '1850\\t23,191,876\\t$1,423,351\\t6.14 cents\\n',\n",
              " '1860\\t31,443,321\\t$1,969,377\\t6.26 cents\\n',\n",
              " '1870\\t38,558,371\\t$3,421,198\\t8.87 cents\\n',\n",
              " '1880\\t50,155,783\\t$5,790,678\\t11.54 cents\\n',\n",
              " '1890\\t62,979,766\\t$11,547,127\\t18.33 cents\\n',\n",
              " '1900\\t76,303,387\\t$11,854,000\\t15.54 cents\\n',\n",
              " '1910\\t91,972,266\\t$15,968,000\\t17.07 cents\\n',\n",
              " '1920\\t105,710,620\\t$25,117,000\\t23.76 cents\\n',\n",
              " '1930\\t122,775,046\\t$40,156,000\\t32.71 cents\\n',\n",
              " '1940\\t131,669,275\\t$67,527,000\\t51.29 cents\\n',\n",
              " '1950\\t151,325,798\\t$91,462,000\\t60.44 cents\\n',\n",
              " '1960\\t179,323,175\\t$127,934,000\\t71.34 cents\\n',\n",
              " '1970\\t203,302,031\\t$247,653,000\\t$1.22\\n',\n",
              " '1980\\t226,542,199\\t$1,078,488,000\\t$4.76\\n',\n",
              " '1990\\t248,718,301\\t$2,492,830,000\\t$10.02\\n',\n",
              " '2000\\t281,421,906\\t$4.5 Billion\\t$15.99\\n',\n",
              " '2010*\\t308,745,538\\t$13 Billion\\t$42.11\\n']"
            ]
          },
          "metadata": {},
          "execution_count": 6
        }
      ]
    },
    {
      "cell_type": "markdown",
      "source": [
        "4. Extract the column \"Census Year\" from data_list and assign them to a list named year_list. Remove the \"*\" from the last element \"2010*\". Print the cleansed year_list."
      ],
      "metadata": {
        "id": "rSGpLL-fRcL4"
      }
    },
    {
      "cell_type": "code",
      "source": [
        "year_list=[]\n",
        "for line in data_list:\n",
        "     year=line[0:4]\n",
        "     year_list.append(year)\n",
        "print(year_list)"
      ],
      "metadata": {
        "colab": {
          "base_uri": "https://localhost:8080/"
        },
        "id": "yMVLL0xORkTC",
        "outputId": "a3cc9645-7770-45da-afef-e13259ce9679"
      },
      "execution_count": 12,
      "outputs": [
        {
          "output_type": "stream",
          "name": "stdout",
          "text": [
            "['1790', '1800', '1810', '1820', '1830', '1840', '1850', '1860', '1870', '1880', '1890', '1900', '1910', '1920', '1930', '1940', '1950', '1960', '1970', '1980', '1990', '2000', '2010']\n"
          ]
        }
      ]
    },
    {
      "cell_type": "markdown",
      "source": [
        "5. Extract the \"Total Population\" column from the data_list and assign them to a list named \"pop_list\". Remove the \",\" from the numbers since Python doesn't recognize them. Print the cleansed \"pop_list\"."
      ],
      "metadata": {
        "id": "2tdLCnIbSDMv"
      }
    },
    {
      "cell_type": "code",
      "source": [
        "pop_list = []\n",
        "for line in data_list:\n",
        "    part_list = line.split(\"\\t\")\n",
        "    pop = part_list[1]\n",
        "    pop_list.append(pop)\n",
        "\n",
        "print(pop_list)"
      ],
      "metadata": {
        "colab": {
          "base_uri": "https://localhost:8080/"
        },
        "id": "nE34blXzSGPu",
        "outputId": "8a19b21c-a40b-4950-cf84-fd6b8f8f096c"
      },
      "execution_count": 14,
      "outputs": [
        {
          "output_type": "stream",
          "name": "stdout",
          "text": [
            "['3,929,214', '5,308,483', '7,239,881', '9,633,822', '12,866,020', '17,069,458', '23,191,876', '31,443,321', '38,558,371', '50,155,783', '62,979,766', '76,303,387', '91,972,266', '105,710,620', '122,775,046', '131,669,275', '151,325,798', '179,323,175', '203,302,031', '226,542,199', '248,718,301', '281,421,906', '308,745,538']\n"
          ]
        }
      ]
    },
    {
      "cell_type": "code",
      "source": [
        "clean_pop_list = []\n",
        "for pop in pop_list:\n",
        "    clean_pop = pop.replace(\",\", \"\")\n",
        "    clean_pop_list.append(int(clean_pop))\n",
        "\n",
        "print(clean_pop_list)"
      ],
      "metadata": {
        "colab": {
          "base_uri": "https://localhost:8080/"
        },
        "id": "o38kWuXeUTDL",
        "outputId": "b18ca20f-585f-4d44-b50a-46e0aa67db37"
      },
      "execution_count": 17,
      "outputs": [
        {
          "output_type": "stream",
          "name": "stdout",
          "text": [
            "[3929214, 5308483, 7239881, 9633822, 12866020, 17069458, 23191876, 31443321, 38558371, 50155783, 62979766, 76303387, 91972266, 105710620, 122775046, 131669275, 151325798, 179323175, 203302031, 226542199, 248718301, 281421906, 308745538]\n"
          ]
        }
      ]
    },
    {
      "cell_type": "markdown",
      "source": [
        "6. Extract the \"Census Cost\" column from the data_list and assign them to a list named \"cost_list\". Remove the \",\", and \"$\", and \"Billion\". Make sure to add the \"0\"s to the numbers from which you removed \"Billion\". Print the cleansed cost_list."
      ],
      "metadata": {
        "id": "fKhcMcBTU2BU"
      }
    },
    {
      "cell_type": "code",
      "source": [
        "cost_list = []\n",
        "\n",
        "clean_cost_list = []\n",
        "\n",
        "for lines in data_list:\n",
        "  clean_cost_list.append(lines.split('\\t')[2].lstrip('$').replace(' Billion','000,000,000').replace(',',''))\n",
        "  \n",
        "for i in clean_cost_list:\n",
        "  if '.' in i:\n",
        "    cost_list.append(int(i.replace('.','')[:-1]))\n",
        "  else:\n",
        "    cost_list.append(i)\n",
        "print(cost_list)"
      ],
      "metadata": {
        "colab": {
          "base_uri": "https://localhost:8080/"
        },
        "id": "yEUwlyuiU7Lm",
        "outputId": "6c81eb7a-7f2e-4a11-b7ef-0b54db40a559"
      },
      "execution_count": 22,
      "outputs": [
        {
          "output_type": "stream",
          "name": "stdout",
          "text": [
            "['44377', '66109', '178445', '208526', '378545', '833371', '1423351', '1969377', '3421198', '5790678', '11547127', '11854000', '15968000', '25117000', '40156000', '67527000', '91462000', '127934000', '247653000', '1078488000', '2492830000', 4500000000, '13000000000']\n"
          ]
        }
      ]
    },
    {
      "cell_type": "markdown",
      "source": [
        "7. Extract the \"Average Cost per Person\" column from the data_list and assign them to a list named \"avg_list\". Remove the \"cents\", and \"$\". Make sure to divide the numbers in cents by 100 so that all numbers are measured in dollar. Print the cleansed avg_list."
      ],
      "metadata": {
        "id": "UoY2lwuQWz5B"
      }
    },
    {
      "cell_type": "code",
      "source": [
        "avg_list = []\n",
        "\n",
        "clean_avg_list = []\n",
        "\n",
        "for line in data_list:\n",
        "    part_list = line.split(\"\\t\")\n",
        "    avg = part_list[3]\n",
        "    avg_list.append(avg)\n",
        "\n",
        "print(avg_list)\n",
        "\n",
        "for avg in avg_list:\n",
        "      line_avg = avg.replace(\"\\n\",\"\")\n",
        "      dol_avg = line_avg.replace(\"$\",\"\")\n",
        "      if \"cents\" in dol_avg:\n",
        "          cost_avg = float (dol_avg.replace(\"cents\",\"\")) / 100         \n",
        "          cost_avg = round(cost_avg, 4)\n",
        "      else:\n",
        "          cost_avg = dol_avg\n",
        "\n",
        "      clean_avg_list.append(cost_avg)\n",
        "\n",
        "print(clean_avg_list)\n"
      ],
      "metadata": {
        "colab": {
          "base_uri": "https://localhost:8080/"
        },
        "id": "D9A8V_wmW56-",
        "outputId": "83cf0fa5-15b6-4742-bbb7-ea66f9dd676a"
      },
      "execution_count": 24,
      "outputs": [
        {
          "output_type": "stream",
          "name": "stdout",
          "text": [
            "['1.13 cents\\n', '1.24 cents\\n', '2.46 cents\\n', '2.16 cents\\n', '2.94 cents\\n', '4.88 cents\\n', '6.14 cents\\n', '6.26 cents\\n', '8.87 cents\\n', '11.54 cents\\n', '18.33 cents\\n', '15.54 cents\\n', '17.07 cents\\n', '23.76 cents\\n', '32.71 cents\\n', '51.29 cents\\n', '60.44 cents\\n', '71.34 cents\\n', '$1.22\\n', '$4.76\\n', '$10.02\\n', '$15.99\\n', '$42.11\\n']\n",
            "[0.0113, 0.0124, 0.0246, 0.0216, 0.0294, 0.0488, 0.0614, 0.0626, 0.0887, 0.1154, 0.1833, 0.1554, 0.1707, 0.2376, 0.3271, 0.5129, 0.6044, 0.7134, '1.22', '4.76', '10.02', '15.99', '42.11']\n"
          ]
        }
      ]
    },
    {
      "cell_type": "markdown",
      "source": [
        "8. Coalesce the cleansed data and save them to a text file named \"census_cost.csv\". The new file should look similar to the original source file except that it is in comma-delimited format and the numbers have been cleansed. The top two lines from the original file should be retained in the new file."
      ],
      "metadata": {
        "id": "02uO4TvHZwkt"
      }
    },
    {
      "cell_type": "code",
      "source": [
        "clean_census_cost = list(zip(year_list, clean_pop_list, clean_cost_list, clean_avg_list))\n",
        "\n",
        "print(clean_census_cost)"
      ],
      "metadata": {
        "colab": {
          "base_uri": "https://localhost:8080/"
        },
        "id": "m7m927AzZ0ps",
        "outputId": "09e6cdd9-60e1-458f-a36a-8984f0db0d3b"
      },
      "execution_count": 32,
      "outputs": [
        {
          "output_type": "stream",
          "name": "stdout",
          "text": [
            "[('1790', 3929214, '44377', 0.0113), ('1800', 5308483, '66109', 0.0124), ('1810', 7239881, '178445', 0.0246), ('1820', 9633822, '208526', 0.0216), ('1830', 12866020, '378545', 0.0294), ('1840', 17069458, '833371', 0.0488), ('1850', 23191876, '1423351', 0.0614), ('1860', 31443321, '1969377', 0.0626), ('1870', 38558371, '3421198', 0.0887), ('1880', 50155783, '5790678', 0.1154), ('1890', 62979766, '11547127', 0.1833), ('1900', 76303387, '11854000', 0.1554), ('1910', 91972266, '15968000', 0.1707), ('1920', 105710620, '25117000', 0.2376), ('1930', 122775046, '40156000', 0.3271), ('1940', 131669275, '67527000', 0.5129), ('1950', 151325798, '91462000', 0.6044), ('1960', 179323175, '127934000', 0.7134), ('1970', 203302031, '247653000', '1.22'), ('1980', 226542199, '1078488000', '4.76'), ('1990', 248718301, '2492830000', '10.02'), ('2000', 281421906, '4.5000000000', '15.99'), ('2010', 308745538, '13000000000', '42.11')]\n"
          ]
        }
      ]
    },
    {
      "cell_type": "code",
      "source": [
        "with open(\"clean_census_costs.csv\",'w') as cleansed_file:\n",
        "    for i in top_2_list:\n",
        "        cleansed_file.write(i.replace('\\t',','))\n",
        "    for j in range(len(year_list)):\n",
        "        cleansed_file.write(f\"{year_list[j]},{clean_pop_list[j]},{clean_cost_list[j]},{clean_avg_list[j]}\\n\")"
      ],
      "metadata": {
        "id": "NWFwmNS4cxTs"
      },
      "execution_count": 39,
      "outputs": []
    },
    {
      "cell_type": "markdown",
      "source": [
        "9. Write code to open the newly-created file \"census_cost.csv\", read all lines and display them. How does it look?"
      ],
      "metadata": {
        "id": "bOlMmucrc7aM"
      }
    },
    {
      "cell_type": "code",
      "source": [
        "with open(\"clean_census_costs.csv\",\"r\") as f:\n",
        "    line_list = f.readlines()\n",
        "\n",
        "line_list"
      ],
      "metadata": {
        "colab": {
          "base_uri": "https://localhost:8080/"
        },
        "id": "NBe9Jo1Lc_VX",
        "outputId": "f5508e96-7622-4059-830b-693eccee4432"
      },
      "execution_count": 40,
      "outputs": [
        {
          "output_type": "execute_result",
          "data": {
            "text/plain": [
              "['Source: https://www.genealogybranches.com/censuscosts.html\\n',\n",
              " 'Census Year,Total Population,Census Cost,Average Cost Per Person\\n',\n",
              " '1790,3929214,44377,0.0113\\n',\n",
              " '1800,5308483,66109,0.0124\\n',\n",
              " '1810,7239881,178445,0.0246\\n',\n",
              " '1820,9633822,208526,0.0216\\n',\n",
              " '1830,12866020,378545,0.0294\\n',\n",
              " '1840,17069458,833371,0.0488\\n',\n",
              " '1850,23191876,1423351,0.0614\\n',\n",
              " '1860,31443321,1969377,0.0626\\n',\n",
              " '1870,38558371,3421198,0.0887\\n',\n",
              " '1880,50155783,5790678,0.1154\\n',\n",
              " '1890,62979766,11547127,0.1833\\n',\n",
              " '1900,76303387,11854000,0.1554\\n',\n",
              " '1910,91972266,15968000,0.1707\\n',\n",
              " '1920,105710620,25117000,0.2376\\n',\n",
              " '1930,122775046,40156000,0.3271\\n',\n",
              " '1940,131669275,67527000,0.5129\\n',\n",
              " '1950,151325798,91462000,0.6044\\n',\n",
              " '1960,179323175,127934000,0.7134\\n',\n",
              " '1970,203302031,247653000,1.22\\n',\n",
              " '1980,226542199,1078488000,4.76\\n',\n",
              " '1990,248718301,2492830000,10.02\\n',\n",
              " '2000,281421906,4.5000000000,15.99\\n',\n",
              " '2010,308745538,13000000000,42.11\\n']"
            ]
          },
          "metadata": {},
          "execution_count": 40
        }
      ]
    }
  ]
}