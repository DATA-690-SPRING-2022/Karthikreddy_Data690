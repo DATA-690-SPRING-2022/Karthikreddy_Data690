{
  "nbformat": 4,
  "nbformat_minor": 0,
  "metadata": {
    "colab": {
      "name": "help_for_hw03.ipynb",
      "provenance": [],
      "authorship_tag": "ABX9TyN6nVZ4pUZA1iL6SwfUc3ul",
      "include_colab_link": true
    },
    "kernelspec": {
      "name": "python3",
      "display_name": "Python 3"
    },
    "language_info": {
      "name": "python"
    }
  },
  "cells": [
    {
      "cell_type": "markdown",
      "metadata": {
        "id": "view-in-github",
        "colab_type": "text"
      },
      "source": [
        "<a href=\"https://colab.research.google.com/github/Karthikreddy2299/Karthikreddy_Data690/blob/main/assingment_03/help_for_hw03.ipynb\" target=\"_parent\"><img src=\"https://colab.research.google.com/assets/colab-badge.svg\" alt=\"Open In Colab\"/></a>"
      ]
    },
    {
      "cell_type": "markdown",
      "source": [
        "# In class practice \n",
        "\n",
        "Date: 02/14\n",
        "\n",
        "Name: Singireddy Karthik Reddy "
      ],
      "metadata": {
        "id": "8PF-Zih53bC9"
      }
    },
    {
      "cell_type": "code",
      "execution_count": 1,
      "metadata": {
        "colab": {
          "base_uri": "https://localhost:8080/"
        },
        "id": "a4JMb_Fgw60u",
        "outputId": "c4591217-6e83-482f-d747-abda9f0f0c1a"
      },
      "outputs": [
        {
          "output_type": "stream",
          "name": "stdout",
          "text": [
            "[2, 5, 12, 'jay', 'wang']\n"
          ]
        }
      ],
      "source": [
        "x = [2,5,12, \"jay\", \"wang\"]\n",
        "print(x)"
      ]
    },
    {
      "cell_type": "code",
      "source": [
        "for a in x:\n",
        "  print(a, end=\" * \")\n"
      ],
      "metadata": {
        "colab": {
          "base_uri": "https://localhost:8080/"
        },
        "id": "HehK1O4DydUE",
        "outputId": "330866d6-4cc5-422d-d34f-8d85a470f40f"
      },
      "execution_count": 6,
      "outputs": [
        {
          "output_type": "stream",
          "name": "stdout",
          "text": [
            "2 * 5 * 12 * jay * wang * "
          ]
        }
      ]
    },
    {
      "cell_type": "code",
      "source": [
        "5 in x"
      ],
      "metadata": {
        "colab": {
          "base_uri": "https://localhost:8080/"
        },
        "id": "FohlGyzcylgD",
        "outputId": "3eccf631-9b65-46bd-9880-0207f00aac10"
      },
      "execution_count": 7,
      "outputs": [
        {
          "output_type": "execute_result",
          "data": {
            "text/plain": [
              "True"
            ]
          },
          "metadata": {},
          "execution_count": 7
        }
      ]
    },
    {
      "cell_type": "code",
      "source": [
        "if 5 in x: \n",
        "  print(\"5 is a member of list x.\")\n",
        "else:\n",
        "    print(\"5 is not a member\")"
      ],
      "metadata": {
        "colab": {
          "base_uri": "https://localhost:8080/"
        },
        "id": "HwIZ9t4Iyuid",
        "outputId": "a388defb-1e9c-41d3-baa9-579223cb6e3a"
      },
      "execution_count": 10,
      "outputs": [
        {
          "output_type": "stream",
          "name": "stdout",
          "text": [
            "5 is a member of list x.\n"
          ]
        }
      ]
    },
    {
      "cell_type": "code",
      "source": [
        "y = [5, 1, 5, 6, 2, 7, 8, 6, 4, 2]\n",
        "print(y)"
      ],
      "metadata": {
        "colab": {
          "base_uri": "https://localhost:8080/"
        },
        "id": "mAqN_IBOz2mC",
        "outputId": "069e18fa-57ba-4b49-8237-7edc623295f5"
      },
      "execution_count": 14,
      "outputs": [
        {
          "output_type": "stream",
          "name": "stdout",
          "text": [
            "[5, 1, 5, 6, 2, 7, 8, 6, 4, 2]\n"
          ]
        }
      ]
    },
    {
      "cell_type": "code",
      "source": [
        "for b in y:\n",
        "  print(b)"
      ],
      "metadata": {
        "colab": {
          "base_uri": "https://localhost:8080/"
        },
        "id": "1c99CBFy0grP",
        "outputId": "ab571421-f959-48f7-f863-10d909099ffd"
      },
      "execution_count": 15,
      "outputs": [
        {
          "output_type": "stream",
          "name": "stdout",
          "text": [
            "5\n",
            "1\n",
            "5\n",
            "6\n",
            "2\n",
            "7\n",
            "8\n",
            "6\n",
            "4\n",
            "2\n"
          ]
        }
      ]
    },
    {
      "cell_type": "code",
      "source": [
        "for b in y:\n",
        "  print(b, end=\" \")"
      ],
      "metadata": {
        "colab": {
          "base_uri": "https://localhost:8080/"
        },
        "id": "WF_PKxin0mG5",
        "outputId": "5ad7cdcb-adb7-4026-9c50-705b505f1d80"
      },
      "execution_count": 17,
      "outputs": [
        {
          "output_type": "stream",
          "name": "stdout",
          "text": [
            "5 1 5 6 2 7 8 6 4 2 "
          ]
        }
      ]
    },
    {
      "cell_type": "code",
      "source": [
        "import random"
      ],
      "metadata": {
        "id": "677xyklh01OS"
      },
      "execution_count": 18,
      "outputs": []
    },
    {
      "cell_type": "code",
      "source": [
        "random.randint(0, 9)"
      ],
      "metadata": {
        "colab": {
          "base_uri": "https://localhost:8080/"
        },
        "id": "N60gK8Ay03Xh",
        "outputId": "129f5f61-5177-406c-8663-514a35eb7c2f"
      },
      "execution_count": 19,
      "outputs": [
        {
          "output_type": "execute_result",
          "data": {
            "text/plain": [
              "0"
            ]
          },
          "metadata": {},
          "execution_count": 19
        }
      ]
    },
    {
      "cell_type": "code",
      "source": [
        "for i in range(10):\n",
        "    print(random.randint(0,9), end=\" \")"
      ],
      "metadata": {
        "colab": {
          "base_uri": "https://localhost:8080/"
        },
        "id": "POKNqnD11EEN",
        "outputId": "f1374db5-10af-48ba-9bfb-05beaac6c13c"
      },
      "execution_count": 21,
      "outputs": [
        {
          "output_type": "stream",
          "name": "stdout",
          "text": [
            "3 4 6 3 2 0 0 5 8 4 "
          ]
        }
      ]
    },
    {
      "cell_type": "code",
      "source": [
        "for j in range(10):\n",
        "    for i in range(10):\n",
        "        print(random.randint(0,9), end=\" \")\n",
        " #     print(\"\\n\", end=\"\")\n",
        "    print('')"
      ],
      "metadata": {
        "colab": {
          "base_uri": "https://localhost:8080/"
        },
        "id": "4Dt_mo1Y2h-x",
        "outputId": "63281aa9-b4ff-4fb2-9079-48a7200c0f7d"
      },
      "execution_count": 22,
      "outputs": [
        {
          "output_type": "stream",
          "name": "stdout",
          "text": [
            "6 1 5 0 2 6 0 5 9 3 \n",
            "6 2 3 8 6 0 6 2 6 8 \n",
            "1 9 6 5 2 4 9 5 6 4 \n",
            "9 6 9 5 1 7 5 8 6 4 \n",
            "8 9 4 8 8 3 1 8 1 9 \n",
            "3 7 2 1 2 7 1 6 8 1 \n",
            "4 2 6 3 1 8 1 4 7 0 \n",
            "4 0 8 3 3 7 9 3 8 1 \n",
            "3 3 2 4 6 6 4 7 1 3 \n",
            "5 0 0 4 4 9 7 6 2 5 \n"
          ]
        }
      ]
    }
  ]
}