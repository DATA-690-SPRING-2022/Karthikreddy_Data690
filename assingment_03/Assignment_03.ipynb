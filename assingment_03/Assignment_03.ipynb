{
  "nbformat": 4,
  "nbformat_minor": 0,
  "metadata": {
    "colab": {
      "name": "Assignment_03.ipynb",
      "provenance": []
    },
    "kernelspec": {
      "name": "python3",
      "display_name": "Python 3"
    },
    "language_info": {
      "name": "python"
    }
  },
  "cells": [
    {
      "cell_type": "code",
      "execution_count": null,
      "metadata": {
        "id": "Fx0VfnO1e_hL"
      },
      "outputs": [],
      "source": [
        ""
      ]
    },
    {
      "cell_type": "markdown",
      "source": [
        "# Assignment 03\n",
        "\n",
        "Name: Karthik Reddy\n",
        "\n",
        "Date: 02/19/2022\n",
        "\n",
        "## Write a program that generates 100 random integers between 0 and 9.\n",
        "\n",
        "1. Print them in a 10 by 10 matrix neatly arranged (one space between each number): \n"
      ],
      "metadata": {
        "id": "ni8RJCn5f6iV"
      }
    },
    {
      "cell_type": "code",
      "source": [
        "import random\n",
        "for j in range(10):\n",
        "    for i in range(10):\n",
        "        print(random.randint(0,9), end=\" \")\n",
        " #     print(\"\\n\", end=\"\")\n",
        "    print('')"
      ],
      "metadata": {
        "colab": {
          "base_uri": "https://localhost:8080/"
        },
        "id": "Th-74fZJhJOr",
        "outputId": "878f3326-edc9-41a7-ad02-5ab31a19a76f"
      },
      "execution_count": 15,
      "outputs": [
        {
          "output_type": "stream",
          "name": "stdout",
          "text": [
            "4 5 9 3 5 1 8 3 9 8 \n",
            "3 9 9 3 3 4 3 1 8 1 \n",
            "7 8 7 8 3 0 0 5 1 9 \n",
            "6 6 1 5 6 5 5 2 6 1 \n",
            "5 7 6 0 5 1 4 6 7 1 \n",
            "4 7 8 2 8 2 2 8 7 2 \n",
            "0 3 6 1 9 0 4 7 0 7 \n",
            "2 3 3 4 5 5 8 9 9 6 \n",
            "6 0 8 2 9 2 1 9 7 9 \n",
            "3 0 7 1 2 6 9 6 1 1 \n"
          ]
        }
      ]
    },
    {
      "cell_type": "markdown",
      "source": [
        "2. If the random number is an odd number, print \"@\" instead:"
      ],
      "metadata": {
        "id": "2DZNWDCLibf6"
      }
    },
    {
      "cell_type": "code",
      "source": [
        "for i in range(0, 10):\n",
        "    print(end=\" \\n \")\n",
        "    for j in range(0, 10):\n",
        "        n=random.randint(0, 9)\n",
        "        if (n % 2) == 0:\n",
        "            print(n, end=\" \")\n",
        "        else:\n",
        "            strn = str(n)\n",
        "            strn=strn.replace(strn,\"@\")\n",
        "            print(strn, end=\" \")"
      ],
      "metadata": {
        "colab": {
          "base_uri": "https://localhost:8080/"
        },
        "id": "cRkCmji2isV8",
        "outputId": "ce1aca8b-79c0-431a-8c66-19cfa26b9384"
      },
      "execution_count": 22,
      "outputs": [
        {
          "output_type": "stream",
          "name": "stdout",
          "text": [
            " \n",
            " 4 4 @ @ @ @ @ 2 @ @  \n",
            " 4 @ @ 2 @ @ @ @ 2 8  \n",
            " @ 6 @ 8 2 2 @ @ @ @  \n",
            " 0 @ @ 0 @ @ 6 0 @ 4  \n",
            " @ @ @ 4 @ @ 2 @ @ 0  \n",
            " @ @ @ 2 2 @ @ @ @ 8  \n",
            " 6 @ @ 2 @ @ @ @ 2 @  \n",
            " 8 @ 8 2 6 @ 4 0 8 @  \n",
            " @ 0 4 4 @ @ @ 6 6 6  \n",
            " 6 @ @ 2 @ 4 @ @ 6 @ "
          ]
        }
      ]
    },
    {
      "cell_type": "markdown",
      "source": [
        "3. Calculate and Print the total of each row (use \"*\" to separate the total from the numbers):"
      ],
      "metadata": {
        "id": "Llrttfiwk4wd"
      }
    },
    {
      "cell_type": "code",
      "source": [
        "j = 0\n",
        "for i in range(10):\n",
        " x = 0\n",
        " for j in range(10):    \n",
        "      i = random.randint(0, 9)\n",
        "      print(i, end = \" \")\n",
        "      x =x+i\n",
        "      j =j+1\n",
        "      if j==10:\n",
        "        print(\"*\", x)\n",
        "      else:\n",
        "        continue"
      ],
      "metadata": {
        "colab": {
          "base_uri": "https://localhost:8080/"
        },
        "id": "lUNvlRFSlA2U",
        "outputId": "a906a812-9d73-43d2-a4fa-7621c4658066"
      },
      "execution_count": 65,
      "outputs": [
        {
          "output_type": "stream",
          "name": "stdout",
          "text": [
            "5 2 4 0 4 3 7 8 2 9 * 44\n",
            "9 7 9 8 6 3 1 4 5 7 * 59\n",
            "4 1 8 1 6 7 8 8 7 5 * 55\n",
            "8 4 9 2 3 1 6 8 1 8 * 50\n",
            "3 6 9 0 4 3 3 0 2 8 * 38\n",
            "0 2 9 2 6 1 3 2 4 5 * 34\n",
            "8 2 0 7 3 0 9 6 4 9 * 48\n",
            "3 6 6 1 2 2 0 2 9 7 * 38\n",
            "8 6 6 6 2 7 2 1 6 2 * 46\n",
            "1 6 3 9 6 6 2 5 8 0 * 46\n"
          ]
        }
      ]
    },
    {
      "cell_type": "markdown",
      "source": [
        "4. Surround the matrix with asterisks (*):"
      ],
      "metadata": {
        "id": "0KQibGP8ovaB"
      }
    },
    {
      "cell_type": "code",
      "source": [
        "for j in range(0, 23):\n",
        "    print(\"*\", end=\"\")\n",
        "print(\"\")\n",
        "for i in range(10):\n",
        "#   print(\"*\")\n",
        "    for i in range(10):\n",
        "        if i == 0:\n",
        "            print(\"*\", end =\" \")\n",
        "        n = random.randint(0, 9)\n",
        "        print(n, end=\" \")\n",
        "    print(\"*\")\n",
        "for i in range(0, 23):\n",
        "    print(\"*\", end=\"\")"
      ],
      "metadata": {
        "colab": {
          "base_uri": "https://localhost:8080/"
        },
        "id": "nc7D2eZVo4Sn",
        "outputId": "13f94954-fbf7-4c3f-a4b5-251bb21e66fc"
      },
      "execution_count": 66,
      "outputs": [
        {
          "output_type": "stream",
          "name": "stdout",
          "text": [
            "***********************\n",
            "* 6 3 3 0 6 1 1 5 0 3 *\n",
            "* 0 9 3 6 8 5 7 9 6 8 *\n",
            "* 2 4 7 5 7 9 4 4 5 0 *\n",
            "* 7 9 0 3 4 2 3 4 0 6 *\n",
            "* 1 0 2 3 8 2 3 7 6 0 *\n",
            "* 8 7 5 6 8 8 1 1 7 4 *\n",
            "* 8 1 2 8 5 8 4 4 4 4 *\n",
            "* 3 9 4 3 0 8 1 8 7 0 *\n",
            "* 1 3 4 6 9 6 7 4 9 9 *\n",
            "* 9 7 3 6 5 2 9 1 8 3 *\n",
            "***********************"
          ]
        }
      ]
    },
    {
      "cell_type": "markdown",
      "source": [
        "5. Calculate and Print the total of each row and column: "
      ],
      "metadata": {
        "id": "ukEKBWGlu1cB"
      }
    },
    {
      "cell_type": "code",
      "source": [
        "rc=[0]*10  \n",
        "for i in range(0, 10): \n",
        "    x=0 \n",
        "    for j in range(0, 10):  \n",
        "        tot=(random.randint(0, 9))\n",
        "        x=x+(tot)  \n",
        "        rc[j]=rc[j] + tot \n",
        "        print(tot, end=\"  \") \n",
        "    print(\"*\", x)  \n",
        "for i in range(0, 10):\n",
        "    print(\"*\", end=\"  \")  \n",
        "print(\"\\n\", end=\"\")  \n",
        "for j in range(0, 10):\n",
        "    print(rc[j], end=\" \")"
      ],
      "metadata": {
        "colab": {
          "base_uri": "https://localhost:8080/"
        },
        "id": "g2CPVrAYvUt-",
        "outputId": "5faf18c2-b45c-4747-fd3e-27bf85e5e27a"
      },
      "execution_count": 78,
      "outputs": [
        {
          "output_type": "stream",
          "name": "stdout",
          "text": [
            "1  2  1  5  3  9  5  1  2  4  * 33\n",
            "5  6  5  3  9  1  8  4  0  7  * 48\n",
            "9  5  2  9  0  8  9  4  6  6  * 58\n",
            "1  5  0  6  8  2  4  4  0  2  * 32\n",
            "0  0  5  3  0  6  2  6  8  2  * 32\n",
            "3  9  4  3  9  3  7  2  3  1  * 44\n",
            "3  8  5  9  5  8  3  1  5  9  * 56\n",
            "3  9  5  5  0  2  4  9  0  6  * 43\n",
            "2  1  3  1  9  4  4  8  7  8  * 47\n",
            "9  5  5  9  4  8  2  2  1  9  * 54\n",
            "*  *  *  *  *  *  *  *  *  *  \n",
            "36 50 35 53 47 51 48 41 32 54 "
          ]
        }
      ]
    }
  ]
}