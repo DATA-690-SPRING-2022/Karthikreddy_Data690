{
  "nbformat": 4,
  "nbformat_minor": 0,
  "metadata": {
    "colab": {
      "name": "Assignment_02.ipynb",
      "provenance": []
    },
    "kernelspec": {
      "name": "python3",
      "display_name": "Python 3"
    },
    "language_info": {
      "name": "python"
    }
  },
  "cells": [
    {
      "cell_type": "code",
      "execution_count": null,
      "metadata": {
        "id": "YxN12tH6IpL1"
      },
      "outputs": [],
      "source": [
        ""
      ]
    },
    {
      "cell_type": "markdown",
      "source": [
        "# Name : Singireddy Karthik Reddy\n",
        "\n",
        "## Assignment 2 \n",
        "\n",
        "## Accept 10 integer values as current input: "
      ],
      "metadata": {
        "id": "Ku54g42pIrL6"
      }
    },
    {
      "cell_type": "code",
      "source": [
        "all_integers = []\n",
        "for i in range(0, 10):\n",
        "    try:\n",
        "      intvalue = int(input(\"Enter a number : \"))\n",
        "      all_integers.append(intvalue)\n",
        "      print(\"The number you have entered above :\", intvalue)\n",
        "    except ValueError:\n",
        "      print(\"only integers are accepted as input\")"
      ],
      "metadata": {
        "colab": {
          "base_uri": "https://localhost:8080/"
        },
        "id": "dJ7HkomcIwBQ",
        "outputId": "e265afa9-2343-416e-e78a-c5b84a0061f6"
      },
      "execution_count": 1,
      "outputs": [
        {
          "output_type": "stream",
          "name": "stdout",
          "text": [
            "Enter a number : 12\n",
            "The number you have entered above : 12\n",
            "Enter a number : 492\n",
            "The number you have entered above : 492\n",
            "Enter a number : 09\n",
            "The number you have entered above : 9\n",
            "Enter a number : 788\n",
            "The number you have entered above : 788\n",
            "Enter a number : 40\n",
            "The number you have entered above : 40\n",
            "Enter a number : 8170\n",
            "The number you have entered above : 8170\n",
            "Enter a number : 1080\n",
            "The number you have entered above : 1080\n",
            "Enter a number : 333\n",
            "The number you have entered above : 333\n",
            "Enter a number : 976\n",
            "The number you have entered above : 976\n",
            "Enter a number : 71\n",
            "The number you have entered above : 71\n"
          ]
        }
      ]
    },
    {
      "cell_type": "markdown",
      "source": [
        "# Finding the minimum value:"
      ],
      "metadata": {
        "id": "KogM3fr6JE5K"
      }
    },
    {
      "cell_type": "code",
      "source": [
        "min = all_integers[0]\n",
        "for i in range(len(all_integers)):\n",
        "  if all_integers[i] < min:\n",
        "    min = all_integers[i]\n",
        "print('The minimum value is: ', min)"
      ],
      "metadata": {
        "colab": {
          "base_uri": "https://localhost:8080/"
        },
        "id": "NwetUWseJM0e",
        "outputId": "381627b8-bd76-456b-d221-35ccae6fbd1c"
      },
      "execution_count": 4,
      "outputs": [
        {
          "output_type": "stream",
          "name": "stdout",
          "text": [
            "The minimum value is:  9\n"
          ]
        }
      ]
    },
    {
      "cell_type": "markdown",
      "source": [
        "# Finding the maximum value: "
      ],
      "metadata": {
        "id": "YNtzVcBIJmcw"
      }
    },
    {
      "cell_type": "code",
      "source": [
        "max = all_integers[0]\n",
        "for i in range(len(all_integers)):\n",
        "  if all_integers[i] > max:\n",
        "    max = all_integers[i]\n",
        "print('The maximum value is: ',max)"
      ],
      "metadata": {
        "colab": {
          "base_uri": "https://localhost:8080/"
        },
        "id": "e_ePN3pDJ2v9",
        "outputId": "28cb9c61-b349-4fc1-9f8f-0a1880aa8e58"
      },
      "execution_count": 5,
      "outputs": [
        {
          "output_type": "stream",
          "name": "stdout",
          "text": [
            "The maximum value is:  8170\n"
          ]
        }
      ]
    },
    {
      "cell_type": "markdown",
      "source": [
        "# Finding the range:"
      ],
      "metadata": {
        "id": "tANDXxMTJ9Bx"
      }
    },
    {
      "cell_type": "code",
      "source": [
        "Range_val = max - min\n",
        "print('The range for the above list is: ',Range_val)"
      ],
      "metadata": {
        "colab": {
          "base_uri": "https://localhost:8080/"
        },
        "id": "c1EES10PKCOq",
        "outputId": "ea19d3e4-823a-46d4-fdce-0d3a5c19c0e3"
      },
      "execution_count": 9,
      "outputs": [
        {
          "output_type": "stream",
          "name": "stdout",
          "text": [
            "The range for the above list is:  8161\n"
          ]
        }
      ]
    },
    {
      "cell_type": "markdown",
      "source": [
        "# Finding the mean:"
      ],
      "metadata": {
        "id": "t4RFDSsGKd1c"
      }
    },
    {
      "cell_type": "code",
      "source": [
        "def meanvaluecount(all_integers):\n",
        "  count = 0\n",
        "  for i in all_integers:\n",
        "    count=count+i\n",
        "    meanvalue = count/len(all_integers)\n",
        "  print('The mean value is: ', meanvalue)\n",
        "  return meanvalue\n",
        "\n",
        "meanvalue = meanvaluecount(all_integers)"
      ],
      "metadata": {
        "colab": {
          "base_uri": "https://localhost:8080/"
        },
        "id": "UUoDE5URKi6s",
        "outputId": "a8ff073c-5570-44d2-cac8-1a857dec008e"
      },
      "execution_count": 10,
      "outputs": [
        {
          "output_type": "stream",
          "name": "stdout",
          "text": [
            "The mean value is:  1197.1\n"
          ]
        }
      ]
    },
    {
      "cell_type": "markdown",
      "source": [
        "# Finding the Variance value:"
      ],
      "metadata": {
        "id": "gXx_L7GNKrsN"
      }
    },
    {
      "cell_type": "code",
      "source": [
        "variance = [(x - meanvalue) ** 2 for x in all_integers]\n",
        "variancevalue = sum(variance)/len(all_integers)\n",
        "print(\"The variance of this above list is: \" ,variancevalue)"
      ],
      "metadata": {
        "colab": {
          "base_uri": "https://localhost:8080/"
        },
        "id": "3HLQ0sxWKu7p",
        "outputId": "a0973f2f-6d4f-49b1-e27e-df49443ced00"
      },
      "execution_count": 12,
      "outputs": [
        {
          "output_type": "stream",
          "name": "stdout",
          "text": [
            "The variance of this above list is:  5551815.49\n"
          ]
        }
      ]
    },
    {
      "cell_type": "markdown",
      "source": [
        "#Finding the Standard Deviation:"
      ],
      "metadata": {
        "id": "LKBK--e2LAHH"
      }
    },
    {
      "cell_type": "code",
      "source": [
        "standard_deviation= variancevalue**0.5\n",
        "print(\" The standard deviation of the above list is: \",standard_deviation)"
      ],
      "metadata": {
        "colab": {
          "base_uri": "https://localhost:8080/"
        },
        "id": "YZt1LA8KLDh_",
        "outputId": "216f2e59-67f9-467b-92ff-82f5e78fd10c"
      },
      "execution_count": 13,
      "outputs": [
        {
          "output_type": "stream",
          "name": "stdout",
          "text": [
            " The standard deviation of the above list is:  2356.229082665775\n"
          ]
        }
      ]
    }
  ]
}