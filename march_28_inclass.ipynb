{
  "nbformat": 4,
  "nbformat_minor": 0,
  "metadata": {
    "colab": {
      "name": "march_28_inclass.ipynb",
      "provenance": [],
      "authorship_tag": "ABX9TyOffSQkVjfhwt1J/ZNFp+UY",
      "include_colab_link": true
    },
    "kernelspec": {
      "name": "python3",
      "display_name": "Python 3"
    },
    "language_info": {
      "name": "python"
    }
  },
  "cells": [
    {
      "cell_type": "markdown",
      "metadata": {
        "id": "view-in-github",
        "colab_type": "text"
      },
      "source": [
        "<a href=\"https://colab.research.google.com/github/Karthikreddy2299/Karthikreddy_Data690/blob/main/march_28_inclass.ipynb\" target=\"_parent\"><img src=\"https://colab.research.google.com/assets/colab-badge.svg\" alt=\"Open In Colab\"/></a>"
      ]
    },
    {
      "cell_type": "markdown",
      "source": [
        "DATA 606 4 teams: A, B, C, D Randomly select a team to present in class."
      ],
      "metadata": {
        "id": "1I2DGZeW1HZx"
      }
    },
    {
      "cell_type": "code",
      "execution_count": 1,
      "metadata": {
        "id": "1cwSijL002zT"
      },
      "outputs": [],
      "source": [
        "import random"
      ]
    },
    {
      "cell_type": "code",
      "source": [
        "team_list = [\"A\", \"B\", \"C\", \"D\"]\n",
        "random.randint(0,3)   #assign 0 to A, 1 to B, 2 to C, 3 to D\n",
        "print (\"Team\", team_list[random.randint(0,3)], \"is randomly selected to present\")"
      ],
      "metadata": {
        "colab": {
          "base_uri": "https://localhost:8080/"
        },
        "id": "tUo3xf4U_D2x",
        "outputId": "4e35fa0b-345a-4aac-e30b-2cf2d9085ac8"
      },
      "execution_count": 2,
      "outputs": [
        {
          "output_type": "stream",
          "name": "stdout",
          "text": [
            "Team A is randomly selected to present\n"
          ]
        }
      ]
    },
    {
      "cell_type": "code",
      "source": [
        "team_list = [\"A\", \"B\", \"C\", \"D\"]   \n",
        "print (\"Team\", random.choice(team_list), \"is randomly selected to present\")"
      ],
      "metadata": {
        "colab": {
          "base_uri": "https://localhost:8080/"
        },
        "id": "rn9ilhAy_MyV",
        "outputId": "7c366abc-ad82-4541-f64e-365cb280441f"
      },
      "execution_count": 3,
      "outputs": [
        {
          "output_type": "stream",
          "name": "stdout",
          "text": [
            "Team B is randomly selected to present\n"
          ]
        }
      ]
    },
    {
      "cell_type": "code",
      "source": [
        "random.choice(team_list)"
      ],
      "metadata": {
        "colab": {
          "base_uri": "https://localhost:8080/",
          "height": 35
        },
        "id": "KfLhFowY_Qre",
        "outputId": "019295ed-bf40-4124-94c2-1331af478dcc"
      },
      "execution_count": 6,
      "outputs": [
        {
          "output_type": "execute_result",
          "data": {
            "text/plain": [
              "'B'"
            ],
            "application/vnd.google.colaboratory.intrinsic+json": {
              "type": "string"
            }
          },
          "metadata": {},
          "execution_count": 6
        }
      ]
    },
    {
      "cell_type": "code",
      "source": [
        "team_dict ={\n",
        "    \"A\":0,\n",
        "    \"B\":0,\n",
        "    \"C\":0,\n",
        "    \"D\":0\n",
        "}\n",
        "\n",
        "#range(start, stop, step) range(0, 10, 1), shortcut is range(10)\n",
        "for i in range(10000):  \n",
        "  team_dict[random.choice(list(team_dict.keys()))] += 1 #iteam_dict[random.choice(team_list)] + 1\n",
        "\n",
        "print(team_dict)"
      ],
      "metadata": {
        "colab": {
          "base_uri": "https://localhost:8080/"
        },
        "id": "BkCSbQH1_Tqg",
        "outputId": "a0e64345-009a-4433-ebbd-134d8d9bc813"
      },
      "execution_count": 12,
      "outputs": [
        {
          "output_type": "stream",
          "name": "stdout",
          "text": [
            "{'A': 2483, 'B': 2498, 'C': 2551, 'D': 2468}\n"
          ]
        }
      ]
    },
    {
      "cell_type": "code",
      "source": [
        "list(team_dict.keys())"
      ],
      "metadata": {
        "colab": {
          "base_uri": "https://localhost:8080/"
        },
        "id": "VLOl7Wpw_ch_",
        "outputId": "01d906e7-e966-4d06-f04a-b6b04d2dff47"
      },
      "execution_count": 14,
      "outputs": [
        {
          "output_type": "execute_result",
          "data": {
            "text/plain": [
              "['A', 'B', 'C', 'D']"
            ]
          },
          "metadata": {},
          "execution_count": 14
        }
      ]
    }
  ]
}